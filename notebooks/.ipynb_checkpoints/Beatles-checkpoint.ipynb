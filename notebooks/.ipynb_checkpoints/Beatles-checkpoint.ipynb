{
 "metadata": {
  "name": "",
  "signature": "sha256:832975a9d0200865d1e776b40fbc13c3189a39284943469eef3958f5f5691584"
 },
 "nbformat": 3,
 "nbformat_minor": 0,
 "worksheets": [
  {
   "cells": [
    {
     "cell_type": "code",
     "collapsed": false,
     "input": [
      "import pandas as pd\n",
      "import numpy  as np\n",
      "import glob\n",
      "import re\n",
      "\n",
      "data_path = \"/home/matt/Development/cs580/project/data/\"\n",
      "TUT_path = data_path + \"Artists/\"\n",
      "\n",
      "beat_header  = ['start','measure']\n",
      "key_header   = ['start','stop','des','key']\n",
      "chord_header = ['start','stop', 'chord']\n",
      "\n",
      "beat_ext  = \".txt\"\n",
      "key_ext   = \".lab\"\n",
      "chord_ext = \".lab\"\n",
      "\n",
      "# Generate table with (8) columns:\n",
      "# num_beats mean_beat_len std_beat_len main_key mean_chord_len std_chord_len most_freq_chord artist\n",
      "def generate_DataFrame():\n",
      "    df = 0 #DataFrame()\n",
      "    for artist in ['Beatles', 'Carole_King', 'Michael_Jackson', 'Queen']:\n",
      "        artist_path = TUT_path + artist + '/'\n",
      "        for tmp in glob.glob(artist_path + 'beat/*/*/*.txt'):\n",
      "            song_path = re.search(TUT_path + artist + '/beat/(.*)\\.(?:txt|lab|svi|ttl)', tmp).group(1)\n",
      "            i = get_song_info_for_TUT(artist, song_path)\n",
      "            print_Row(i, artist)\n",
      "   # return df\n",
      "\n",
      "# return tuple of info\n",
      "def get_song_info_for_TUT(artist, song_path):\n",
      "    beat_df = pd.read_csv(TUT_path + artist + '/beat/' + song_path + beat_ext, names=beat_header)\n",
      "    keys_df = pd.read_csv(TUT_path + artist + '/keylab/' + song_path + key_ext, names=key_header)\n",
      "    chords_df = pd.read_csv(TUT_path + artist + '/chordlab/' + song_path + chord_ext, names=chord_header)\n",
      "    (num, mean_blen, std_blen) = get_TUT_Beat_Info(beat_df)\n",
      "    main_key = get_TUT_Key_Info(keys_df)\n",
      "    (mean_clen, std_clen, mode) = get_TUT_Chord_Info(chords_df)\n",
      "    return (num, mean_blen, std_blen, main_key, mean_clen, std_clen, mode)\n",
      "    \n",
      "# returns number, avg. length\n",
      "def get_TUT_Beat_Info(df):\n",
      "    ls = []\n",
      "    array = list(df['start'])\n",
      "    for i in range(0,len(array)-1):\n",
      "        ls.append(int(array[i+1]) - int(array[i]))\n",
      "    mean   = np.mean(ls)\n",
      "    stddev = np.std(ls)\n",
      "    return (len(array), mean, stddev)\n",
      "\n",
      "# returns key with longest duration\n",
      "def get_TUT_Key_Info(df):\n",
      "    longest_key_length = 0.0\n",
      "    longest_key = 0\n",
      "    keys = df[df['des'] == 'Key']\n",
      "    for i in range(0,len(keys)):\n",
      "        diff = keys.iloc[i,1] - keys.iloc[i,0]\n",
      "        if diff > longest_key_length:\n",
      "            longest_key_length = diff\n",
      "            longest_key = keys.iloc[i,3]\n",
      "    return longest_key\n",
      "\n",
      "# returns avg. chord length, most frequent chord\n",
      "def get_TUT_Chord_Info(df):\n",
      "    chords = []\n",
      "    freq = {}\n",
      "    for i in range(0,len(df)):\n",
      "        chords.append(int(df.iloc[i,1]) - int(df.iloc[i,0]))\n",
      "        chord = df.iloc[i,2]\n",
      "        if chord in freq:\n",
      "            freq[chord] += 1\n",
      "        else:\n",
      "            freq[chord] = 1\n",
      "    mode = sorted(freq.items(), key=lambda x: x[1], reverse=True)[0][0]\n",
      "    mean = np.mean(chords)\n",
      "    stddev = np.std(chords)\n",
      "    return (mean, stddev, mode)\n",
      "\n",
      "# verbose output\n",
      "def pretty_Print_TUT_Info(tup):\n",
      "    print \"Number of Beats:     \" , tup[0]\n",
      "    print \"Mean beat duration:  \" , tup[1]\n",
      "    print \"Std. dev. beat dur:  \" , tup[2]\n",
      "    print \"Main key:            \" , tup[3]\n",
      "    print \"Mean Chord duration: \" , tup[4]\n",
      "    print \"Std. dev. chord dur: \" , tup[5]\n",
      "    print \"Most frequent chord: \" , tup[6]\n",
      "  \n",
      "# single row, with artist at end\n",
      "def print_Row(tup, artist):\n",
      "    print ','.join([repr(e) for e in tup]),',',artist\n",
      "\n",
      "\n",
      "generate_DataFrame()"
     ],
     "language": "python",
     "metadata": {},
     "outputs": [
      {
       "output_type": "stream",
       "stream": "stdout",
       "text": [
        "198,0.6091370558375635,0.49823828366261441,'F#:minor',2.0833333333333335,1.4176467198220515,'F#:min' , Beatles\n",
        "265,0.43560606060606061,0.49583608235921034,'E',1.5569620253164558,1.1555790421293368,'E'"
       ]
      },
      {
       "output_type": "stream",
       "stream": "stdout",
       "text": [
        " , Beatles\n",
        "307,0.47712418300653597,0.49947642286386396,'D',1.3189655172413792,1.030560091532374,'A'"
       ]
      },
      {
       "output_type": "stream",
       "stream": "stdout",
       "text": [
        " , Beatles\n",
        "225,0.4732142857142857,0.49928201000056521,'C',2.3913043478260869,1.0316356971917107,'C' , Beatles\n",
        "269,0.44776119402985076,0.49726361937187169,'D:aeolian',1.6025641025641026,0.92458921703091201,'D'"
       ]
      },
      {
       "output_type": "stream",
       "stream": "stdout",
       "text": [
        " , Beatles\n",
        "453,0.38495575221238937,0.55057833454188199,'E',2.8225806451612905,2.2613455425589422,'E' , Beatles\n",
        "305,0.46052631578947367,0.49843939275988985,'Bb',3.4761904761904763,2.3526893956258332,'Bb'"
       ]
      },
      {
       "output_type": "stream",
       "stream": "stdout",
       "text": [
        " , Beatles\n",
        "314,0.54313099041533541,0.49813624407966067,'D',2.3918918918918921,1.9299738660012395,'D' , Beatles\n",
        "212,0.48341232227488151,0.4997247731978956,'E',1.0438596491228069,0.69320449474141566,'F#:min'"
       ]
      },
      {
       "output_type": "stream",
       "stream": "stdout",
       "text": [
        " , Beatles\n",
        "337,0.40773809523809523,0.49141402190994138,'G',1.9452054794520548,1.0188687113307973,'G' , Beatles\n",
        "310,0.44660194174757284,0.49714047046571241,'E',1.5154639175257731,0.95370576263737927,'E'"
       ]
      },
      {
       "output_type": "stream",
       "stream": "stdout",
       "text": [
        " , Beatles\n",
        "338,0.41839762611275966,0.49329611044074467,'E',2.8269230769230771,1.6608750456189545,'E' , Beatles\n",
        "286,0.53333333333333333,0.49888765156985893,'G',2.8214285714285716,1.1666059265043631,'G'"
       ]
      },
      {
       "output_type": "stream",
       "stream": "stdout",
       "text": [
        " , Beatles\n",
        "253,0.42460317460317459,0.49428263040499515,'E',1.8064516129032258,0.89512496293623278,'A' , Beatles\n",
        "194,0.89637305699481862,0.30477598279487517,'C',1.8484848484848484,1.166568276055767,'F'"
       ]
      },
      {
       "output_type": "stream",
       "stream": "stdout",
       "text": [
        " , Beatles\n",
        "156,0.73548387096774193,0.4410752163906374,'A',1.9830508474576272,1.112205404510028,'A' , Beatles\n",
        "259,0.47286821705426357,0.49926332366215936,'A',2.396551724137931,2.6969948485011712,'D:7'"
       ]
      },
      {
       "output_type": "stream",
       "stream": "stdout",
       "text": [
        " , Beatles\n",
        "349,0.7183908045977011,0.4497837885775437,'D:minor',7.2222222222222223,10.4538964323014,'D:min' , Beatles\n",
        "256,0.6470588235294118,0.47788461203740884,'E',1.71,1.0797684937059426,'A'"
       ]
      },
      {
       "output_type": "stream",
       "stream": "stdout",
       "text": [
        " , Beatles\n",
        "434,0.41801385681293302,0.49323247290228966,'A:minor',1.4122137404580153,1.0328218885905043,'A'"
       ]
      },
      {
       "output_type": "stream",
       "stream": "stdout",
       "text": [
        " , Beatles\n",
        "183,0.79670329670329665,0.40245143026879138,'E',3.6499999999999999,2.1277922830953218,'E:maj6' , Beatles\n",
        "360,0.6740947075208914,0.46871210013526909,'A',1.9206349206349207,1.0735135504070425,'C'"
       ]
      },
      {
       "output_type": "stream",
       "stream": "stdout",
       "text": [
        " , Beatles\n",
        "215,0.7429906542056075,0.4369846015235897,'C#:minor',3.3673469387755102,1.2887880329670973,'C#:min' , Beatles\n",
        "576,0.34434782608695652,0.47515513335766929,'A',3.0294117647058822,1.7318010705900617,'E'"
       ]
      },
      {
       "output_type": "stream",
       "stream": "stdout",
       "text": [
        " , Beatles\n",
        "36,0.5714285714285714,0.49487165930539362,'D',0.76666666666666672,0.5587684871413402,'D' , Beatles\n",
        "123,0.73770491803278693,0.43988222508192532,'A:minor',2.84375,1.60291482540402,'C' , Beatles\n",
        "200,0.36180904522613067,0.48052394323143482,'E',1.0285714285714285,0.69634614896879654,'E'"
       ]
      },
      {
       "output_type": "stream",
       "stream": "stdout",
       "text": [
        " , Beatles\n",
        "992,0.467204843592331,0.52839088730296191,'D:minor',1.782442748091603,2.5432137184504509,'D:min'"
       ]
      },
      {
       "output_type": "stream",
       "stream": "stdout",
       "text": [
        " , Beatles\n",
        "136,0.71111111111111114,0.45324617898602532,'C',2.1818181818181817,1.1336330830309025,'C' , Beatles\n",
        "110,0.59633027522935778,0.49063273237141081,'E',2.0,2.5584085962673253,'B'"
       ]
      },
      {
       "output_type": "stream",
       "stream": "stdout",
       "text": [
        " , Beatles\n",
        "447,0.45515695067264572,0.49798504086671436,'D',0.95391705069124422,0.72968388618947533,'D'"
       ]
      },
      {
       "output_type": "stream",
       "stream": "stdout",
       "text": [
        " , Beatles\n",
        "325,0.49074074074074076,0.49991425876640988,'D',2.5076923076923077,1.8902427758040201,'D:7(#9)'"
       ]
      },
      {
       "output_type": "stream",
       "stream": "stdout",
       "text": [
        " , Beatles\n",
        "233,0.62068965517241381,0.48521542343000917,'Eb',1.6276595744680851,0.82493123573115201,'C:min'"
       ]
      },
      {
       "output_type": "stream",
       "stream": "stdout",
       "text": [
        " , Beatles\n",
        "317,0.49683544303797467,0.49998998547894347,'E',2.2162162162162162,0.79304868924979466,'E'"
       ]
      },
      {
       "output_type": "stream",
       "stream": "stdout",
       "text": [
        " , Beatles\n",
        "355,0.33615819209039549,0.47239375734752409,'E',2.7777777777777777,1.6450449354063772,'E' , Beatles\n",
        "201,0.68000000000000005,0.46647615158762445,'D',2.3389830508474576,2.1832192797429992,'B:min'"
       ]
      },
      {
       "output_type": "stream",
       "stream": "stdout",
       "text": [
        " , Beatles\n",
        "267,0.47744360902255639,0.49949095009426647,'F#:minor',1.1623931623931625,0.81604911195077035,'F#:min'"
       ]
      },
      {
       "output_type": "stream",
       "stream": "stdout",
       "text": [
        " , Beatles\n",
        "295,0.45918367346938777,0.49833124273774626,'G',2.2063492063492065,0.87575328407198261,'G' , Beatles\n"
       ]
      },
      {
       "ename": "KeyboardInterrupt",
       "evalue": "",
       "output_type": "pyerr",
       "traceback": [
        "\u001b[0;31m---------------------------------------------------------------------------\u001b[0m\n\u001b[0;31mKeyboardInterrupt\u001b[0m                         Traceback (most recent call last)",
        "\u001b[0;32m<ipython-input-1-1a6fa2350811>\u001b[0m in \u001b[0;36m<module>\u001b[0;34m()\u001b[0m\n\u001b[1;32m     90\u001b[0m \u001b[0;34m\u001b[0m\u001b[0m\n\u001b[1;32m     91\u001b[0m \u001b[0;34m\u001b[0m\u001b[0m\n\u001b[0;32m---> 92\u001b[0;31m \u001b[0mgenerate_DataFrame\u001b[0m\u001b[0;34m(\u001b[0m\u001b[0;34m)\u001b[0m\u001b[0;34m\u001b[0m\u001b[0m\n\u001b[0m",
        "\u001b[0;32m<ipython-input-1-1a6fa2350811>\u001b[0m in \u001b[0;36mgenerate_DataFrame\u001b[0;34m()\u001b[0m\n\u001b[1;32m     23\u001b[0m         \u001b[0;32mfor\u001b[0m \u001b[0mtmp\u001b[0m \u001b[0;32min\u001b[0m \u001b[0mglob\u001b[0m\u001b[0;34m.\u001b[0m\u001b[0mglob\u001b[0m\u001b[0;34m(\u001b[0m\u001b[0martist_path\u001b[0m \u001b[0;34m+\u001b[0m \u001b[0;34m'beat/*/*/*.txt'\u001b[0m\u001b[0;34m)\u001b[0m\u001b[0;34m:\u001b[0m\u001b[0;34m\u001b[0m\u001b[0m\n\u001b[1;32m     24\u001b[0m             \u001b[0msong_path\u001b[0m \u001b[0;34m=\u001b[0m \u001b[0mre\u001b[0m\u001b[0;34m.\u001b[0m\u001b[0msearch\u001b[0m\u001b[0;34m(\u001b[0m\u001b[0mTUT_path\u001b[0m \u001b[0;34m+\u001b[0m \u001b[0martist\u001b[0m \u001b[0;34m+\u001b[0m \u001b[0;34m'/beat/(.*)\\.(?:txt|lab|svi|ttl)'\u001b[0m\u001b[0;34m,\u001b[0m \u001b[0mtmp\u001b[0m\u001b[0;34m)\u001b[0m\u001b[0;34m.\u001b[0m\u001b[0mgroup\u001b[0m\u001b[0;34m(\u001b[0m\u001b[0;36m1\u001b[0m\u001b[0;34m)\u001b[0m\u001b[0;34m\u001b[0m\u001b[0m\n\u001b[0;32m---> 25\u001b[0;31m             \u001b[0mi\u001b[0m \u001b[0;34m=\u001b[0m \u001b[0mget_song_info_for_TUT\u001b[0m\u001b[0;34m(\u001b[0m\u001b[0martist\u001b[0m\u001b[0;34m,\u001b[0m \u001b[0msong_path\u001b[0m\u001b[0;34m)\u001b[0m\u001b[0;34m\u001b[0m\u001b[0m\n\u001b[0m\u001b[1;32m     26\u001b[0m             \u001b[0mprint_Row\u001b[0m\u001b[0;34m(\u001b[0m\u001b[0mi\u001b[0m\u001b[0;34m,\u001b[0m \u001b[0martist\u001b[0m\u001b[0;34m)\u001b[0m\u001b[0;34m\u001b[0m\u001b[0m\n\u001b[1;32m     27\u001b[0m    \u001b[0;31m# return df\u001b[0m\u001b[0;34m\u001b[0m\u001b[0;34m\u001b[0m\u001b[0m\n",
        "\u001b[0;32m<ipython-input-1-1a6fa2350811>\u001b[0m in \u001b[0;36mget_song_info_for_TUT\u001b[0;34m(artist, song_path)\u001b[0m\n\u001b[1;32m     34\u001b[0m     \u001b[0;34m(\u001b[0m\u001b[0mnum\u001b[0m\u001b[0;34m,\u001b[0m \u001b[0mmean_blen\u001b[0m\u001b[0;34m,\u001b[0m \u001b[0mstd_blen\u001b[0m\u001b[0;34m)\u001b[0m \u001b[0;34m=\u001b[0m \u001b[0mget_TUT_Beat_Info\u001b[0m\u001b[0;34m(\u001b[0m\u001b[0mbeat_df\u001b[0m\u001b[0;34m)\u001b[0m\u001b[0;34m\u001b[0m\u001b[0m\n\u001b[1;32m     35\u001b[0m     \u001b[0mmain_key\u001b[0m \u001b[0;34m=\u001b[0m \u001b[0mget_TUT_Key_Info\u001b[0m\u001b[0;34m(\u001b[0m\u001b[0mkeys_df\u001b[0m\u001b[0;34m)\u001b[0m\u001b[0;34m\u001b[0m\u001b[0m\n\u001b[0;32m---> 36\u001b[0;31m     \u001b[0;34m(\u001b[0m\u001b[0mmean_clen\u001b[0m\u001b[0;34m,\u001b[0m \u001b[0mstd_clen\u001b[0m\u001b[0;34m,\u001b[0m \u001b[0mmode\u001b[0m\u001b[0;34m)\u001b[0m \u001b[0;34m=\u001b[0m \u001b[0mget_TUT_Chord_Info\u001b[0m\u001b[0;34m(\u001b[0m\u001b[0mchords_df\u001b[0m\u001b[0;34m)\u001b[0m\u001b[0;34m\u001b[0m\u001b[0m\n\u001b[0m\u001b[1;32m     37\u001b[0m     \u001b[0;32mreturn\u001b[0m \u001b[0;34m(\u001b[0m\u001b[0mnum\u001b[0m\u001b[0;34m,\u001b[0m \u001b[0mmean_blen\u001b[0m\u001b[0;34m,\u001b[0m \u001b[0mstd_blen\u001b[0m\u001b[0;34m,\u001b[0m \u001b[0mmain_key\u001b[0m\u001b[0;34m,\u001b[0m \u001b[0mmean_clen\u001b[0m\u001b[0;34m,\u001b[0m \u001b[0mstd_clen\u001b[0m\u001b[0;34m,\u001b[0m \u001b[0mmode\u001b[0m\u001b[0;34m)\u001b[0m\u001b[0;34m\u001b[0m\u001b[0m\n\u001b[1;32m     38\u001b[0m \u001b[0;34m\u001b[0m\u001b[0m\n",
        "\u001b[0;32m<ipython-input-1-1a6fa2350811>\u001b[0m in \u001b[0;36mget_TUT_Chord_Info\u001b[0;34m(df)\u001b[0m\n\u001b[1;32m     65\u001b[0m     \u001b[0;32mfor\u001b[0m \u001b[0mi\u001b[0m \u001b[0;32min\u001b[0m \u001b[0mrange\u001b[0m\u001b[0;34m(\u001b[0m\u001b[0;36m0\u001b[0m\u001b[0;34m,\u001b[0m\u001b[0mlen\u001b[0m\u001b[0;34m(\u001b[0m\u001b[0mdf\u001b[0m\u001b[0;34m)\u001b[0m\u001b[0;34m)\u001b[0m\u001b[0;34m:\u001b[0m\u001b[0;34m\u001b[0m\u001b[0m\n\u001b[1;32m     66\u001b[0m         \u001b[0mchords\u001b[0m\u001b[0;34m.\u001b[0m\u001b[0mappend\u001b[0m\u001b[0;34m(\u001b[0m\u001b[0mint\u001b[0m\u001b[0;34m(\u001b[0m\u001b[0mdf\u001b[0m\u001b[0;34m.\u001b[0m\u001b[0miloc\u001b[0m\u001b[0;34m[\u001b[0m\u001b[0mi\u001b[0m\u001b[0;34m,\u001b[0m\u001b[0;36m1\u001b[0m\u001b[0;34m]\u001b[0m\u001b[0;34m)\u001b[0m \u001b[0;34m-\u001b[0m \u001b[0mint\u001b[0m\u001b[0;34m(\u001b[0m\u001b[0mdf\u001b[0m\u001b[0;34m.\u001b[0m\u001b[0miloc\u001b[0m\u001b[0;34m[\u001b[0m\u001b[0mi\u001b[0m\u001b[0;34m,\u001b[0m\u001b[0;36m0\u001b[0m\u001b[0;34m]\u001b[0m\u001b[0;34m)\u001b[0m\u001b[0;34m)\u001b[0m\u001b[0;34m\u001b[0m\u001b[0m\n\u001b[0;32m---> 67\u001b[0;31m         \u001b[0mchord\u001b[0m \u001b[0;34m=\u001b[0m \u001b[0mdf\u001b[0m\u001b[0;34m.\u001b[0m\u001b[0miloc\u001b[0m\u001b[0;34m[\u001b[0m\u001b[0mi\u001b[0m\u001b[0;34m,\u001b[0m\u001b[0;36m2\u001b[0m\u001b[0;34m]\u001b[0m\u001b[0;34m\u001b[0m\u001b[0m\n\u001b[0m\u001b[1;32m     68\u001b[0m         \u001b[0;32mif\u001b[0m \u001b[0mchord\u001b[0m \u001b[0;32min\u001b[0m \u001b[0mfreq\u001b[0m\u001b[0;34m:\u001b[0m\u001b[0;34m\u001b[0m\u001b[0m\n\u001b[1;32m     69\u001b[0m             \u001b[0mfreq\u001b[0m\u001b[0;34m[\u001b[0m\u001b[0mchord\u001b[0m\u001b[0;34m]\u001b[0m \u001b[0;34m+=\u001b[0m \u001b[0;36m1\u001b[0m\u001b[0;34m\u001b[0m\u001b[0m\n",
        "\u001b[0;32m/usr/local/lib/python2.7/dist-packages/pandas/core/indexing.pyc\u001b[0m in \u001b[0;36m__getitem__\u001b[0;34m(self, key)\u001b[0m\n\u001b[1;32m   1196\u001b[0m     \u001b[0m_exception\u001b[0m \u001b[0;34m=\u001b[0m \u001b[0mException\u001b[0m\u001b[0;34m\u001b[0m\u001b[0m\n\u001b[1;32m   1197\u001b[0m \u001b[0;34m\u001b[0m\u001b[0m\n\u001b[0;32m-> 1198\u001b[0;31m     \u001b[0;32mdef\u001b[0m \u001b[0m__getitem__\u001b[0m\u001b[0;34m(\u001b[0m\u001b[0mself\u001b[0m\u001b[0;34m,\u001b[0m \u001b[0mkey\u001b[0m\u001b[0;34m)\u001b[0m\u001b[0;34m:\u001b[0m\u001b[0;34m\u001b[0m\u001b[0m\n\u001b[0m\u001b[1;32m   1199\u001b[0m         \u001b[0;32mif\u001b[0m \u001b[0mtype\u001b[0m\u001b[0;34m(\u001b[0m\u001b[0mkey\u001b[0m\u001b[0;34m)\u001b[0m \u001b[0;32mis\u001b[0m \u001b[0mtuple\u001b[0m\u001b[0;34m:\u001b[0m\u001b[0;34m\u001b[0m\u001b[0m\n\u001b[1;32m   1200\u001b[0m             \u001b[0;32mreturn\u001b[0m \u001b[0mself\u001b[0m\u001b[0;34m.\u001b[0m\u001b[0m_getitem_tuple\u001b[0m\u001b[0;34m(\u001b[0m\u001b[0mkey\u001b[0m\u001b[0;34m)\u001b[0m\u001b[0;34m\u001b[0m\u001b[0m\n",
        "\u001b[0;31mKeyboardInterrupt\u001b[0m: "
       ]
      }
     ],
     "prompt_number": 1
    },
    {
     "cell_type": "code",
     "collapsed": false,
     "input": [
      "import pandas as pd\n",
      "import numpy as np\n",
      "import tables\n",
      "from StringIO import StringIO\n",
      "\n",
      "data_path = \"/home/matt/Development/cs580/project/data/\"\n",
      "uspop_ex  = 'USPOP/uspopHDF5/beck/Mellow_Gold/01-Loser.mp3.h5'\n",
      "\n",
      "loser = pd.HDFStore(uspop_ex)\n",
      "for tag in loser.keys():\n",
      "    t = pd.read_hdf(uspop_ex, tag)\n",
      "    print t"
     ],
     "language": "python",
     "metadata": {},
     "outputs": [
      {
       "ename": "NameError",
       "evalue": "name 'USPOP_path' is not defined",
       "output_type": "pyerr",
       "traceback": [
        "\u001b[0;31m---------------------------------------------------------------------------\u001b[0m\n\u001b[0;31mNameError\u001b[0m                                 Traceback (most recent call last)",
        "\u001b[0;32m<ipython-input-1-f202269e02ef>\u001b[0m in \u001b[0;36m<module>\u001b[0;34m()\u001b[0m\n\u001b[1;32m      5\u001b[0m \u001b[0;34m\u001b[0m\u001b[0m\n\u001b[1;32m      6\u001b[0m \u001b[0mdata_path\u001b[0m \u001b[0;34m=\u001b[0m \u001b[0;34m\"/home/matt/Development/cs580/project/data/\"\u001b[0m\u001b[0;34m\u001b[0m\u001b[0m\n\u001b[0;32m----> 7\u001b[0;31m \u001b[0muspop_ex\u001b[0m  \u001b[0;34m=\u001b[0m \u001b[0mUSPOP_path\u001b[0m \u001b[0;34m+\u001b[0m \u001b[0;34m'/uspopHDF5/beck/Mellow_Gold/01-Loser.mp3.h5'\u001b[0m\u001b[0;34m\u001b[0m\u001b[0m\n\u001b[0m\u001b[1;32m      8\u001b[0m \u001b[0;34m\u001b[0m\u001b[0m\n\u001b[1;32m      9\u001b[0m \u001b[0mloser\u001b[0m \u001b[0;34m=\u001b[0m \u001b[0mpd\u001b[0m\u001b[0;34m.\u001b[0m\u001b[0mHDFStore\u001b[0m\u001b[0;34m(\u001b[0m\u001b[0muspop_ex\u001b[0m\u001b[0;34m)\u001b[0m\u001b[0;34m\u001b[0m\u001b[0m\n",
        "\u001b[0;31mNameError\u001b[0m: name 'USPOP_path' is not defined"
       ]
      }
     ],
     "prompt_number": 1
    },
    {
     "cell_type": "code",
     "collapsed": false,
     "input": [],
     "language": "python",
     "metadata": {},
     "outputs": [],
     "prompt_number": 52
    },
    {
     "cell_type": "code",
     "collapsed": false,
     "input": [],
     "language": "python",
     "metadata": {},
     "outputs": []
    }
   ],
   "metadata": {}
  }
 ]
}